{
 "cells": [
  {
   "cell_type": "code",
   "execution_count": 1,
   "metadata": {},
   "outputs": [],
   "source": [
    "import datetime as dt\n",
    "import pandas as pd\n",
    "import matplotlib.pyplot as plt\n",
    "import seaborn as sns\n",
    "\n",
    "# the link of database \n",
    "# https://catalog.data.gov/dataset/traffic-violations-56dda\n",
    "\n",
    "# first I imported data, and due to its size, I set low memory = false\n",
    "df = pd.read_csv('Traffic_Violations.csv', low_memory=False) \n",
    "# I created timestamp based on two coclumns\n",
    "df['Datetime'] = pd.to_datetime((df['Date Of Stop'] + ' ' + df['Time Of Stop']), format='%m/%d/%Y %H:%M:%S')\n",
    "# defining the index of the dataframe\n",
    "df = df.set_index(pd.DatetimeIndex(df['Datetime']))\n",
    "# I sorted the data\n",
    "df.sort_index(ascending=True, inplace=True)\n",
    "# I changed the data type to datetime to use them later\n",
    "df['Date Of Stop'] = pd.to_datetime(df['Date Of Stop'])\n",
    "df['Time Of Stop'] = pd.to_datetime(df['Time Of Stop'])\n",
    "\n",
    "# created a column which contains weekdays of accidents based on index from 0 to 6\n",
    "df['weekday'] = df['Date Of Stop'].apply(lambda x: x.weekday())\n",
    "# created a columns whcih contains hour of accident \n",
    "df['Time Of Stop'] = df['Time Of Stop'].apply(lambda x: x.hour)\n",
    "# to keep year of accident \n",
    "df['year'] = df['Date Of Stop'].apply(lambda x: x.year)\n",
    "# to keep month of accidnet \n",
    "df['month'] = df['Date Of Stop'].apply(lambda x: x.month)\n",
    "\n",
    "dayOfWeek={0:'Monday', 1:'Tuesday', 2:'Wednesday', 3:'Thursday', 4:'Friday', 5:'Saturday', 6:'Sunday'}\n",
    "# weekdays' indexes are replaced with names \n",
    "df['weekday'] = df['weekday'].map(dayOfWeek)"
   ]
  },
  {
   "cell_type": "code",
   "execution_count": null,
   "metadata": {},
   "outputs": [],
   "source": [
    "# I was intersted to assess general trend of accidnet to understand % of accidnets over \n",
    "# years, months, weekdays, and hour of a day. \n",
    "# also, I looked into the percentage of fatal accident and alcohol related violation.  "
   ]
  },
  {
   "cell_type": "code",
   "execution_count": null,
   "metadata": {},
   "outputs": [],
   "source": [
    "# ACCIDENTS and WEEKDAYs"
   ]
  },
  {
   "cell_type": "code",
   "execution_count": null,
   "metadata": {},
   "outputs": [],
   "source": [
    "# all ACCIDENTS\n",
    "plt.figure(figsize=(7,7))\n",
    "sns.barplot(x=df['weekday'].value_counts(normalize=True).index, y = df['weekday'].value_counts(normalize=True))\n",
    "plt.xlabel('Weekday of accident', fontsize=14)\n",
    "plt.ylabel('Percentage', fontsize=14)"
   ]
  },
  {
   "cell_type": "code",
   "execution_count": null,
   "metadata": {},
   "outputs": [],
   "source": [
    "# ALCOHOL RELATED\n",
    "plt.figure(figsize=(7,7))\n",
    "sns.barplot(x=df['weekday'].loc[df['Alcohol'] == 'Yes'].value_counts(normalize=True).index, y = df['weekday'].loc[df['Alcohol'] == 'Yes'].value_counts(normalize=True))\n",
    "plt.xlabel('Weekday of accident - Drunk Drivers', fontsize=14)\n",
    "plt.ylabel('Percentage', fontsize=14)"
   ]
  },
  {
   "cell_type": "code",
   "execution_count": null,
   "metadata": {},
   "outputs": [],
   "source": [
    "# Fatal ACCIDENTS\n",
    "plt.figure(figsize=(7,7))\n",
    "sns.barplot(x=df['weekday'].loc[df['Fatal'] == 'Yes'].value_counts(normalize=True).index, y = df['weekday'].loc[df['Fatal'] == 'Yes'].value_counts(normalize=True))\n",
    "plt.xlabel('Weekday of accident - Drunk Drivers', fontsize=14)\n",
    "plt.ylabel('Percentage', fontsize=14)"
   ]
  },
  {
   "cell_type": "code",
   "execution_count": null,
   "metadata": {},
   "outputs": [],
   "source": [
    "# TIME OF accidents"
   ]
  },
  {
   "cell_type": "code",
   "execution_count": null,
   "metadata": {},
   "outputs": [],
   "source": [
    "# ALL accidents\n",
    "plt.figure(figsize=(7,7))\n",
    "sns.barplot(x=df['Time Of Stop'].value_counts(normalize=True).index, y = df['Time Of Stop'].value_counts(normalize=True))\n",
    "plt.xlabel('Time of accident', fontsize=14)\n",
    "plt.ylabel('Percentage', fontsize=14)"
   ]
  },
  {
   "cell_type": "code",
   "execution_count": null,
   "metadata": {},
   "outputs": [],
   "source": [
    "# ALCOHOL RELATED  \n",
    "plt.figure(figsize=(7,7))\n",
    "sns.barplot(x=df['Time Of Stop'].loc[df['Alcohol'] == 'Yes'].value_counts(normalize=True).index, y = df['Time Of Stop'].loc[df['Alcohol'] == 'Yes'].value_counts(normalize=True))\n",
    "plt.xlabel('Time of accident - Drunk Driver', fontsize=14)\n",
    "plt.ylabel('Percentage', fontsize=14)"
   ]
  },
  {
   "cell_type": "code",
   "execution_count": null,
   "metadata": {},
   "outputs": [],
   "source": [
    "# Fatal ACCIDENTS\n",
    "plt.figure(figsize=(7,7))\n",
    "sns.barplot(x=df['Time Of Stop'].loc[df['Fatal'] == 'Yes'].value_counts(normalize=True).index, y = df['Time Of Stop'].loc[df['Fatal'] == 'Yes'].value_counts(normalize=True))\n",
    "plt.xlabel('Time of accident - Drunk Driver', fontsize=14)\n",
    "plt.ylabel('Percentage', fontsize=14)"
   ]
  },
  {
   "cell_type": "code",
   "execution_count": null,
   "metadata": {},
   "outputs": [],
   "source": [
    "# Month OF accidents"
   ]
  },
  {
   "cell_type": "code",
   "execution_count": null,
   "metadata": {},
   "outputs": [],
   "source": [
    "# ALL accidents \n",
    "plt.figure(figsize=(7,7))\n",
    "sns.barplot(x=df['month'].value_counts(normalize=True).index, y = df['month'].value_counts(normalize=True))\n",
    "plt.xlabel('Month of accidents', fontsize=14)\n",
    "plt.ylabel('Percentage', fontsize=14)"
   ]
  },
  {
   "cell_type": "code",
   "execution_count": null,
   "metadata": {},
   "outputs": [],
   "source": [
    "# ALCOHOL RELATED\n",
    "plt.figure(figsize=(7,7))\n",
    "sns.barplot(x=df['month'].loc[df['Alcohol'] == 'Yes'].value_counts(normalize=True).index, y = df['month'].loc[df['Alcohol'] == 'Yes'].value_counts(normalize=True))\n",
    "plt.xlabel('Month of accidents - Drunk Driver', fontsize=14)\n",
    "plt.ylabel('Percentage', fontsize=14)"
   ]
  },
  {
   "cell_type": "code",
   "execution_count": null,
   "metadata": {},
   "outputs": [],
   "source": [
    "# Fatal Accidents \n",
    "plt.figure(figsize=(7,7))\n",
    "sns.barplot(x=df['month'].loc[df['Fatal'] == 'Yes'].value_counts(normalize=True).index, y = df['month'].loc[df['Fatal'] == 'Yes'].value_counts(normalize=True))\n",
    "plt.xlabel('Month of Fatal accidents - Drunk Driver', fontsize=14)\n",
    "plt.ylabel('Percentage', fontsize=14)"
   ]
  },
  {
   "cell_type": "code",
   "execution_count": null,
   "metadata": {},
   "outputs": [],
   "source": [
    "# Year of accidents"
   ]
  },
  {
   "cell_type": "code",
   "execution_count": null,
   "metadata": {},
   "outputs": [],
   "source": [
    "# ALL ACCIDENTs\n",
    "plt.figure(figsize=(7,7))\n",
    "sns.barplot(x=df['year'].value_counts(normalize=True).index, y = df['year'].value_counts(normalize=True))\n",
    "plt.ylabel('Percentage', fontsize=14)\n",
    "plt.xlabel('Year of accidents', fontsize=14)"
   ]
  },
  {
   "cell_type": "code",
   "execution_count": null,
   "metadata": {},
   "outputs": [],
   "source": [
    "# ALCOHOL RELATED \n",
    "plt.figure(figsize=(8,8))\n",
    "sns.barplot(x=df['year'].loc[df['Alcohol'] == 'Yes'].value_counts(normalize=True).index, y = df['year'].loc[df['Alcohol'] == 'Yes'].value_counts(normalize=True))\n",
    "plt.ylabel('Percentage', fontsize=14)\n",
    "plt.xlabel('Year of accidents - Drunk Drivers', fontsize=14)"
   ]
  },
  {
   "cell_type": "code",
   "execution_count": null,
   "metadata": {},
   "outputs": [],
   "source": [
    "# Fatal accidents\n",
    "plt.figure(figsize=(8,8))\n",
    "sns.barplot(x=df['year'].loc[df['Fatal'] == 'Yes'].value_counts(normalize=True).index, y = df['year'].loc[df['Fatal'] == 'Yes'].value_counts(normalize=True))\n",
    "plt.ylabel('Percentage', fontsize=14)\n",
    "plt.xlabel('Year of fatal accidents', fontsize=14)"
   ]
  }
 ],
 "metadata": {
  "kernelspec": {
   "display_name": "Python 3",
   "language": "python",
   "name": "python3"
  },
  "language_info": {
   "codemirror_mode": {
    "name": "ipython",
    "version": 3
   },
   "file_extension": ".py",
   "mimetype": "text/x-python",
   "name": "python",
   "nbconvert_exporter": "python",
   "pygments_lexer": "ipython3",
   "version": "3.6.5"
  }
 },
 "nbformat": 4,
 "nbformat_minor": 2
}
